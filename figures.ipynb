{
 "cells": [
  {
   "cell_type": "markdown",
   "metadata": {},
   "source": [
    "# Post-processing neural weather models improves the prediction of convective storm wind gusts\n",
    "\n",
    "This notebook aims at presenting how to use the code coming with the article. It also provides code used to create the figures in the article."
   ]
  },
  {
   "cell_type": "code",
   "execution_count": null,
   "metadata": {
    "vscode": {
     "languageId": "plaintext"
    }
   },
   "outputs": [],
   "source": [
    "# Importing needed libraries and functions\n",
    "\n",
    "..."
   ]
  },
  {
   "cell_type": "markdown",
   "metadata": {},
   "source": [
    "## Loading the different models\n",
    "\n",
    "Four different post-processing models are compared in the article:\n",
    "- a Convolutional Neural Network\n",
    "- an Artificial Neural Network\n",
    "- a Vision Transformer\n",
    "- a Vector Generalized Linear Model\n",
    "\n",
    "Additional models to evaluate the performance of the preceding one include:\n",
    "- a _persistant model_: prediction for time $t + \\Delta t$ is observation at time $t$.\n",
    "- a _climatology_: predicted distribution for any time on test year 2021 is climatology from train years 2016 to 2020.\n",
    "- ERA5-based post-processing models: instead of post-processing Pangu outputs, the four preceding models are trained directly on ERA5 at time $t$ to predict wind gust distribution at time $t + \\Delta t$.\n",
    "- a _COSMO_ model, which serves as a benchmark, being the most accurate model against which the post-processing models can compete."
   ]
  },
  {
   "cell_type": "code",
   "execution_count": null,
   "metadata": {
    "vscode": {
     "languageId": "plaintext"
    }
   },
   "outputs": [],
   "source": [
    "# Loading the weight and biases of the different models."
   ]
  }
 ],
 "metadata": {
  "language_info": {
   "name": "python"
  }
 },
 "nbformat": 4,
 "nbformat_minor": 2
}
